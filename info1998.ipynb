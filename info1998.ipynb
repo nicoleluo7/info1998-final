{
 "cells": [
  {
   "cell_type": "markdown",
   "metadata": {
    "colab_type": "text",
    "id": "view-in-github"
   },
   "source": [
    "<a href=\"https://colab.research.google.com/github/nicoleluo7/info1998-final/blob/main/info1998.ipynb\" target=\"_parent\"><img src=\"https://colab.research.google.com/assets/colab-badge.svg\" alt=\"Open In Colab\"/></a>"
   ]
  },
  {
   "cell_type": "markdown",
   "metadata": {
    "id": "DJRxZeUh2rbA"
   },
   "source": [
    "# INFO1998 Final Project: Nicole Luo, Anna Sahakyan, Andelo Vrdoljak\n"
   ]
  },
  {
   "cell_type": "markdown",
   "metadata": {
    "id": "0pAwh_jW2Ber"
   },
   "source": [
    "## Topic"
   ]
  },
  {
   "cell_type": "markdown",
   "metadata": {
    "id": "lDBFm-ds2Okr"
   },
   "source": [
    "Predicting whether a student is dealing with major depressive disorder (MDD) and identifying the greatest contributors of MDD.\n"
   ]
  },
  {
   "cell_type": "markdown",
   "metadata": {
    "id": "DA67JchUeO76"
   },
   "source": [
    "# Introduction"
   ]
  },
  {
   "cell_type": "markdown",
   "metadata": {
    "id": "VRwtKwsNeLan"
   },
   "source": [
    "Major Depressive Disorder (MDD), or more commonly known as just depression, is a mood disorder characterized by a higher than usual loss of interest and sadness. It is one of the leading illnesses with higher mortality rates in youth and adolescence, and furthermore, approximately 29% of the population being once diagnosed with depression at some point in life. That being said, understanding the factors that contribute to the development of depression is essential for early detection and intervention. The main focus of this research is to analyze a spectrum of different variables that might cause depression in youth such as academic, personal, or even lifestyle factors with hopes of identifying greatest contributors, as well as predicting whether a student is suffering with depression in the first place."
   ]
  },
  {
   "cell_type": "markdown",
   "metadata": {
    "id": "pjg9PiGB2S0D"
   },
   "source": [
    "## Background Information and Sources"
   ]
  },
  {
   "cell_type": "markdown",
   "metadata": {
    "id": "d4JZzt1b1vO-"
   },
   "source": [
    "As previously mentioned, depression is a serious mental health condition that negatively affects many individuals in society. Depression can occur at any point in life; on average, it can first appear during the late teens to mid-20s, a time of many changes, hard decisions, and stressful academic pathways.\n",
    "\n",
    "Common symptoms include, but are not limited to:\n",
    "1. Feeling sad, hopeless, or empty.\n",
    "2. Losing interest in things you cared about.\n",
    "3. Change in appetite.\n",
    "4. Decreased energy, or higher feelings of tiredness.\n",
    "5. Change in sleep schedule, both less or more sleep.\n",
    "6. Feeling worthless or guilty.\n",
    "7. Difficulty concentrating, and difficulty making decisions.\n",
    "8. Thoughts of death.\n",
    "\n",
    "Given the higher prevalence of depression diagnoses in adolescent years and early adulthood, early identification and prevention is essential. This research aims to help in this by building predictive models to identify students who are suffering from MDD and to uncover the factors that contribute the most to the development of MDD.\n",
    "\n",
    "In this research, we have used \"Student Depression Dataset: Analyzing Mental Health Trends and Predictors Among Students\" found on Kaggle. This dataset compiles a wide range of information aimed at understanding, analyzing, and predicting depression levels among students. It was updated recently by the authors of the dataset, with the last update before writing this research being in March, 2025.\n",
    "\n",
    "**Dataset**: https://www.kaggle.com/datasets/adilshamim8/student-depression-dataset\n",
    "\n",
    "**Information regarding depression**: https://www.psychiatry.org/patients-families/depression/what-is-depression\n",
    "\n"
   ]
  },
  {
   "cell_type": "markdown",
   "metadata": {
    "id": "a-WTc_aRihPI"
   },
   "source": [
    "# Hypothesis"
   ]
  },
  {
   "cell_type": "markdown",
   "metadata": {
    "id": "MX7DKacdigPB"
   },
   "source": [
    "**Hypothesis**: Academic pressure, history of suicidal thoughts, and study satisfaction are the greatest contributors of depression among students and adolescents."
   ]
  },
  {
   "cell_type": "markdown",
   "metadata": {
    "id": "l-oXrtACkAX4"
   },
   "source": [
    "# Variables"
   ]
  },
  {
   "cell_type": "markdown",
   "metadata": {
    "id": "4t-tZTLEkC_G"
   },
   "source": [
    "**Independent Variables**\n",
    "\n",
    "Independent variables chosen from this dataset were selected based on the probable significance they may have in causing depression. They represent a spectrum of academic, lifestyle, psychological, and personal factors.\n",
    "1. Gender\n",
    "2. Age\n",
    "3. Academic Pressure\n",
    "4. Work Pressure\n",
    "5. CGPA\n",
    "6. Study Satisfaction\n",
    "7. Job Satisfaction\n",
    "8. Sleep Duration\n",
    "9. Dietary Habits\n",
    "10. History of Previous Suicidal Thoughts\n",
    "\n",
    "**Dependent Variable**\n",
    "\n",
    "The only dependent variable in this research is depression, which we aimed to predict using the above variables."
   ]
  },
  {
   "cell_type": "code",
   "execution_count": 1,
   "metadata": {
    "colab": {
     "base_uri": "https://localhost:8080/",
     "height": 500
    },
    "id": "4-h6PIasN3Je",
    "outputId": "27d764fa-579d-48e1-b74e-3b293ec37959"
   },
   "outputs": [
    {
     "data": {
      "text/html": [
       "<div>\n",
       "<style scoped>\n",
       "    .dataframe tbody tr th:only-of-type {\n",
       "        vertical-align: middle;\n",
       "    }\n",
       "\n",
       "    .dataframe tbody tr th {\n",
       "        vertical-align: top;\n",
       "    }\n",
       "\n",
       "    .dataframe thead th {\n",
       "        text-align: right;\n",
       "    }\n",
       "</style>\n",
       "<table border=\"1\" class=\"dataframe\">\n",
       "  <thead>\n",
       "    <tr style=\"text-align: right;\">\n",
       "      <th></th>\n",
       "      <th>id</th>\n",
       "      <th>Gender</th>\n",
       "      <th>Age</th>\n",
       "      <th>Academic Pressure</th>\n",
       "      <th>Work Pressure</th>\n",
       "      <th>CGPA</th>\n",
       "      <th>Study Satisfaction</th>\n",
       "      <th>Job Satisfaction</th>\n",
       "      <th>Sleep Duration</th>\n",
       "      <th>Have you ever had suicidal thoughts ?</th>\n",
       "      <th>...</th>\n",
       "      <th>Family History of Mental Illness</th>\n",
       "      <th>Depression</th>\n",
       "      <th>Dietary_Habit_Score</th>\n",
       "      <th>Degree_Group_Graduate</th>\n",
       "      <th>Degree_Group_Other</th>\n",
       "      <th>Degree_Group_Undergraduate</th>\n",
       "      <th>City_Type_Non-Metro</th>\n",
       "      <th>Profession_Group_Education</th>\n",
       "      <th>Profession_Group_Healthcare</th>\n",
       "      <th>Profession_Group_Tech/Creative</th>\n",
       "    </tr>\n",
       "  </thead>\n",
       "  <tbody>\n",
       "    <tr>\n",
       "      <th>0</th>\n",
       "      <td>2</td>\n",
       "      <td>1</td>\n",
       "      <td>33.0</td>\n",
       "      <td>5.0</td>\n",
       "      <td>0.0</td>\n",
       "      <td>8.97</td>\n",
       "      <td>2.0</td>\n",
       "      <td>0.0</td>\n",
       "      <td>1.0</td>\n",
       "      <td>1</td>\n",
       "      <td>...</td>\n",
       "      <td>0</td>\n",
       "      <td>1</td>\n",
       "      <td>2.0</td>\n",
       "      <td>0</td>\n",
       "      <td>0</td>\n",
       "      <td>1</td>\n",
       "      <td>1</td>\n",
       "      <td>1</td>\n",
       "      <td>0</td>\n",
       "      <td>0</td>\n",
       "    </tr>\n",
       "    <tr>\n",
       "      <th>1</th>\n",
       "      <td>8</td>\n",
       "      <td>0</td>\n",
       "      <td>24.0</td>\n",
       "      <td>2.0</td>\n",
       "      <td>0.0</td>\n",
       "      <td>5.90</td>\n",
       "      <td>5.0</td>\n",
       "      <td>0.0</td>\n",
       "      <td>1.0</td>\n",
       "      <td>0</td>\n",
       "      <td>...</td>\n",
       "      <td>1</td>\n",
       "      <td>0</td>\n",
       "      <td>1.0</td>\n",
       "      <td>0</td>\n",
       "      <td>0</td>\n",
       "      <td>1</td>\n",
       "      <td>0</td>\n",
       "      <td>1</td>\n",
       "      <td>0</td>\n",
       "      <td>0</td>\n",
       "    </tr>\n",
       "    <tr>\n",
       "      <th>2</th>\n",
       "      <td>26</td>\n",
       "      <td>1</td>\n",
       "      <td>31.0</td>\n",
       "      <td>3.0</td>\n",
       "      <td>0.0</td>\n",
       "      <td>7.03</td>\n",
       "      <td>5.0</td>\n",
       "      <td>0.0</td>\n",
       "      <td>0.0</td>\n",
       "      <td>0</td>\n",
       "      <td>...</td>\n",
       "      <td>1</td>\n",
       "      <td>0</td>\n",
       "      <td>2.0</td>\n",
       "      <td>0</td>\n",
       "      <td>0</td>\n",
       "      <td>1</td>\n",
       "      <td>1</td>\n",
       "      <td>1</td>\n",
       "      <td>0</td>\n",
       "      <td>0</td>\n",
       "    </tr>\n",
       "    <tr>\n",
       "      <th>3</th>\n",
       "      <td>30</td>\n",
       "      <td>0</td>\n",
       "      <td>28.0</td>\n",
       "      <td>3.0</td>\n",
       "      <td>0.0</td>\n",
       "      <td>5.59</td>\n",
       "      <td>2.0</td>\n",
       "      <td>0.0</td>\n",
       "      <td>2.0</td>\n",
       "      <td>1</td>\n",
       "      <td>...</td>\n",
       "      <td>1</td>\n",
       "      <td>1</td>\n",
       "      <td>1.0</td>\n",
       "      <td>0</td>\n",
       "      <td>0</td>\n",
       "      <td>1</td>\n",
       "      <td>1</td>\n",
       "      <td>1</td>\n",
       "      <td>0</td>\n",
       "      <td>0</td>\n",
       "    </tr>\n",
       "    <tr>\n",
       "      <th>4</th>\n",
       "      <td>32</td>\n",
       "      <td>0</td>\n",
       "      <td>25.0</td>\n",
       "      <td>4.0</td>\n",
       "      <td>0.0</td>\n",
       "      <td>8.13</td>\n",
       "      <td>3.0</td>\n",
       "      <td>0.0</td>\n",
       "      <td>1.0</td>\n",
       "      <td>1</td>\n",
       "      <td>...</td>\n",
       "      <td>0</td>\n",
       "      <td>0</td>\n",
       "      <td>1.0</td>\n",
       "      <td>1</td>\n",
       "      <td>0</td>\n",
       "      <td>0</td>\n",
       "      <td>0</td>\n",
       "      <td>1</td>\n",
       "      <td>0</td>\n",
       "      <td>0</td>\n",
       "    </tr>\n",
       "    <tr>\n",
       "      <th>5</th>\n",
       "      <td>33</td>\n",
       "      <td>1</td>\n",
       "      <td>29.0</td>\n",
       "      <td>2.0</td>\n",
       "      <td>0.0</td>\n",
       "      <td>5.70</td>\n",
       "      <td>3.0</td>\n",
       "      <td>0.0</td>\n",
       "      <td>0.0</td>\n",
       "      <td>0</td>\n",
       "      <td>...</td>\n",
       "      <td>0</td>\n",
       "      <td>0</td>\n",
       "      <td>2.0</td>\n",
       "      <td>0</td>\n",
       "      <td>0</td>\n",
       "      <td>0</td>\n",
       "      <td>0</td>\n",
       "      <td>1</td>\n",
       "      <td>0</td>\n",
       "      <td>0</td>\n",
       "    </tr>\n",
       "    <tr>\n",
       "      <th>6</th>\n",
       "      <td>52</td>\n",
       "      <td>1</td>\n",
       "      <td>30.0</td>\n",
       "      <td>3.0</td>\n",
       "      <td>0.0</td>\n",
       "      <td>9.54</td>\n",
       "      <td>4.0</td>\n",
       "      <td>0.0</td>\n",
       "      <td>2.0</td>\n",
       "      <td>0</td>\n",
       "      <td>...</td>\n",
       "      <td>0</td>\n",
       "      <td>0</td>\n",
       "      <td>2.0</td>\n",
       "      <td>0</td>\n",
       "      <td>0</td>\n",
       "      <td>1</td>\n",
       "      <td>1</td>\n",
       "      <td>1</td>\n",
       "      <td>0</td>\n",
       "      <td>0</td>\n",
       "    </tr>\n",
       "    <tr>\n",
       "      <th>7</th>\n",
       "      <td>56</td>\n",
       "      <td>0</td>\n",
       "      <td>30.0</td>\n",
       "      <td>2.0</td>\n",
       "      <td>0.0</td>\n",
       "      <td>8.04</td>\n",
       "      <td>4.0</td>\n",
       "      <td>0.0</td>\n",
       "      <td>0.0</td>\n",
       "      <td>0</td>\n",
       "      <td>...</td>\n",
       "      <td>1</td>\n",
       "      <td>0</td>\n",
       "      <td>0.0</td>\n",
       "      <td>0</td>\n",
       "      <td>0</td>\n",
       "      <td>1</td>\n",
       "      <td>0</td>\n",
       "      <td>1</td>\n",
       "      <td>0</td>\n",
       "      <td>0</td>\n",
       "    </tr>\n",
       "    <tr>\n",
       "      <th>8</th>\n",
       "      <td>59</td>\n",
       "      <td>1</td>\n",
       "      <td>28.0</td>\n",
       "      <td>3.0</td>\n",
       "      <td>0.0</td>\n",
       "      <td>9.79</td>\n",
       "      <td>1.0</td>\n",
       "      <td>0.0</td>\n",
       "      <td>2.0</td>\n",
       "      <td>1</td>\n",
       "      <td>...</td>\n",
       "      <td>0</td>\n",
       "      <td>1</td>\n",
       "      <td>1.0</td>\n",
       "      <td>0</td>\n",
       "      <td>0</td>\n",
       "      <td>1</td>\n",
       "      <td>1</td>\n",
       "      <td>1</td>\n",
       "      <td>0</td>\n",
       "      <td>0</td>\n",
       "    </tr>\n",
       "    <tr>\n",
       "      <th>9</th>\n",
       "      <td>62</td>\n",
       "      <td>1</td>\n",
       "      <td>31.0</td>\n",
       "      <td>2.0</td>\n",
       "      <td>0.0</td>\n",
       "      <td>8.38</td>\n",
       "      <td>3.0</td>\n",
       "      <td>0.0</td>\n",
       "      <td>0.0</td>\n",
       "      <td>1</td>\n",
       "      <td>...</td>\n",
       "      <td>0</td>\n",
       "      <td>1</td>\n",
       "      <td>1.0</td>\n",
       "      <td>0</td>\n",
       "      <td>1</td>\n",
       "      <td>0</td>\n",
       "      <td>1</td>\n",
       "      <td>1</td>\n",
       "      <td>0</td>\n",
       "      <td>0</td>\n",
       "    </tr>\n",
       "  </tbody>\n",
       "</table>\n",
       "<p>10 rows × 22 columns</p>\n",
       "</div>"
      ],
      "text/plain": [
       "   id  Gender   Age  Academic Pressure  Work Pressure  CGPA  \\\n",
       "0   2       1  33.0                5.0            0.0  8.97   \n",
       "1   8       0  24.0                2.0            0.0  5.90   \n",
       "2  26       1  31.0                3.0            0.0  7.03   \n",
       "3  30       0  28.0                3.0            0.0  5.59   \n",
       "4  32       0  25.0                4.0            0.0  8.13   \n",
       "5  33       1  29.0                2.0            0.0  5.70   \n",
       "6  52       1  30.0                3.0            0.0  9.54   \n",
       "7  56       0  30.0                2.0            0.0  8.04   \n",
       "8  59       1  28.0                3.0            0.0  9.79   \n",
       "9  62       1  31.0                2.0            0.0  8.38   \n",
       "\n",
       "   Study Satisfaction  Job Satisfaction  Sleep Duration  \\\n",
       "0                 2.0               0.0             1.0   \n",
       "1                 5.0               0.0             1.0   \n",
       "2                 5.0               0.0             0.0   \n",
       "3                 2.0               0.0             2.0   \n",
       "4                 3.0               0.0             1.0   \n",
       "5                 3.0               0.0             0.0   \n",
       "6                 4.0               0.0             2.0   \n",
       "7                 4.0               0.0             0.0   \n",
       "8                 1.0               0.0             2.0   \n",
       "9                 3.0               0.0             0.0   \n",
       "\n",
       "   Have you ever had suicidal thoughts ?  ...  \\\n",
       "0                                      1  ...   \n",
       "1                                      0  ...   \n",
       "2                                      0  ...   \n",
       "3                                      1  ...   \n",
       "4                                      1  ...   \n",
       "5                                      0  ...   \n",
       "6                                      0  ...   \n",
       "7                                      0  ...   \n",
       "8                                      1  ...   \n",
       "9                                      1  ...   \n",
       "\n",
       "   Family History of Mental Illness  Depression  Dietary_Habit_Score  \\\n",
       "0                                 0           1                  2.0   \n",
       "1                                 1           0                  1.0   \n",
       "2                                 1           0                  2.0   \n",
       "3                                 1           1                  1.0   \n",
       "4                                 0           0                  1.0   \n",
       "5                                 0           0                  2.0   \n",
       "6                                 0           0                  2.0   \n",
       "7                                 1           0                  0.0   \n",
       "8                                 0           1                  1.0   \n",
       "9                                 0           1                  1.0   \n",
       "\n",
       "   Degree_Group_Graduate  Degree_Group_Other  Degree_Group_Undergraduate  \\\n",
       "0                      0                   0                           1   \n",
       "1                      0                   0                           1   \n",
       "2                      0                   0                           1   \n",
       "3                      0                   0                           1   \n",
       "4                      1                   0                           0   \n",
       "5                      0                   0                           0   \n",
       "6                      0                   0                           1   \n",
       "7                      0                   0                           1   \n",
       "8                      0                   0                           1   \n",
       "9                      0                   1                           0   \n",
       "\n",
       "   City_Type_Non-Metro  Profession_Group_Education  \\\n",
       "0                    1                           1   \n",
       "1                    0                           1   \n",
       "2                    1                           1   \n",
       "3                    1                           1   \n",
       "4                    0                           1   \n",
       "5                    0                           1   \n",
       "6                    1                           1   \n",
       "7                    0                           1   \n",
       "8                    1                           1   \n",
       "9                    1                           1   \n",
       "\n",
       "   Profession_Group_Healthcare  Profession_Group_Tech/Creative  \n",
       "0                            0                               0  \n",
       "1                            0                               0  \n",
       "2                            0                               0  \n",
       "3                            0                               0  \n",
       "4                            0                               0  \n",
       "5                            0                               0  \n",
       "6                            0                               0  \n",
       "7                            0                               0  \n",
       "8                            0                               0  \n",
       "9                            0                               0  \n",
       "\n",
       "[10 rows x 22 columns]"
      ]
     },
     "execution_count": 1,
     "metadata": {},
     "output_type": "execute_result"
    }
   ],
   "source": [
    "\n",
    "import pandas as pd\n",
    "from sklearn.impute import SimpleImputer\n",
    "\n",
    "df = pd.read_csv(\"student_depression_dataset.csv\")\n",
    "\n",
    "# Seeing which columns are non-numeric\n",
    "obj_cols = df.select_dtypes(include='object').columns.tolist()\n",
    "\n",
    "# Removing whitespace and single-quotes from all object columns\n",
    "for col in obj_cols:\n",
    "    df[col] = df[col].astype(str).str.strip().str.strip(\"'\")\n",
    "\n",
    "# Binary columns (Yes/No → 1/0)\n",
    "binary_cols = [\n",
    "    'Have you ever had suicidal thoughts ?',\n",
    "    'Family History of Mental Illness'\n",
    "]\n",
    "# Numeric but stored as string columns\n",
    "numeric_str_cols = ['Financial Stress']\n",
    "\n",
    "# Multi-category columns (everything else that’s object)\n",
    "multi_cols = [c for c in obj_cols if c not in binary_cols + numeric_str_cols]\n",
    "\n",
    "\n",
    "# Converting binary columns to 0/1\n",
    "for col in binary_cols:\n",
    "    df[col] = df[col].map({'Yes': 1, 'No': 0})\n",
    "\n",
    "# Turning “?” into NaN, then to floats, for Financial Stress\n",
    "df['Financial Stress'] = pd.to_numeric(\n",
    "    df['Financial Stress'].replace('?', pd.NA),\n",
    "    errors='coerce'\n",
    ")\n",
    "\n",
    "# Mapping Sleep Duration to an ordinal scale\n",
    "sleep_map = {\n",
    "    'Less than 5 hours': 0,\n",
    "    '5-6 hours':        1,\n",
    "    '7-8 hours':        2,\n",
    "    'More than 8 hours':3,\n",
    "    'Others':           pd.NA\n",
    "}\n",
    "df['Sleep Duration'] = df['Sleep Duration'].map(sleep_map)\n",
    "\n",
    "# Degree → Undergrad / Graduate / Doctoral / Other\n",
    "undergrad = {'B.Pharm','BSc','BA','BCA','B.Ed','BE','BHM','B.Com','B.Arch','B.Tech','BBA','Class 12'}\n",
    "graduate  = {'M.Tech','MSc','MA','M.Ed','MCA','M.Com','MBA','M.Pharm','ME','LLM'}\n",
    "doctoral  = {'PhD','MD','MBBS'}\n",
    "def map_degree(deg):\n",
    "    if deg in undergrad:   return 'Undergraduate'\n",
    "    if deg in graduate:    return 'Graduate'\n",
    "    if deg in doctoral:    return 'Doctoral'\n",
    "    return 'Other'\n",
    "df['Degree_Group'] = df['Degree'].map(map_degree)\n",
    "\n",
    "# City → Metro vs. Non-Metro\n",
    "metro_cities = {\n",
    "    'Delhi','Mumbai','Bangalore','Kolkata','Chennai','Hyderabad',\n",
    "    'Ahmedabad','Pune','Surat','Jaipur','Lucknow','Kanpur'\n",
    "}\n",
    "def map_city(city):\n",
    "    return 'Metro' if city in metro_cities else 'Non-Metro'\n",
    "df['City_Type'] = df['City'].map(map_city)\n",
    "\n",
    "# Defining groups for Profession → Education / Healthcare / Tech/Creative / Business / Other\n",
    "edu      = {'Student','Teacher','Educational Consultant'}\n",
    "health   = {'Doctor','Pharmacist'}\n",
    "tech     = {'Civil Engineer','Architect','UX/UI Designer','Digital Marketer'}\n",
    "business = {'Manager','Entrepreneur','Content Writer','Lawyer','Chef'}\n",
    "def map_profession(p):\n",
    "    if p in edu:      return 'Education'\n",
    "    if p in health:   return 'Healthcare'\n",
    "    if p in tech:     return 'Tech/Creative'\n",
    "    if p in business: return 'Business'\n",
    "    return 'Other'\n",
    "df['Profession_Group'] = df['Profession'].map(map_profession)\n",
    "\n",
    "# Encoding Dietary Habits as an ordinal score\n",
    "diet_map = {'Unhealthy': 0, 'Moderate': 1, 'Healthy': 2, 'Others': pd.NA}\n",
    "df['Dietary_Habit_Score'] = df['Dietary Habits'].map(diet_map)\n",
    "\n",
    "# Dropping original high-card columns as we no longer need them\n",
    "df.drop(columns=['Degree','City','Profession','Dietary Habits'], inplace=True)\n",
    "\n",
    "# Mapping Gender → Male/Female to 1/0\n",
    "if 'Gender' in df.select_dtypes(include='object').columns:\n",
    "    df['Gender'] = df['Gender'].map({'Male': 1, 'Female': 0})\n",
    "\n",
    "# Converting 'Sleep Duration' & 'Dietary_Habit_Score' to numeric and imputing missing values\n",
    "df['Sleep Duration']      = pd.to_numeric(df['Sleep Duration'], errors='coerce')\n",
    "df['Dietary_Habit_Score'] = pd.to_numeric(df['Dietary_Habit_Score'], errors='coerce')\n",
    "\n",
    "# Filling in the NaNs with the medians\n",
    "imp = SimpleImputer(strategy='median')\n",
    "for col in ['Sleep Duration','Financial Stress','Dietary_Habit_Score']:\n",
    "    df[[col]] = imp.fit_transform(df[[col]])\n",
    "\n",
    "# One-hot encoding the grouped columns: Degree_Group, City_Type, Profession_Group\n",
    "df = pd.get_dummies(\n",
    "    df,\n",
    "    columns=['Degree_Group','City_Type','Profession_Group'],\n",
    "    drop_first=True\n",
    ")\n",
    "\n",
    "# Converting boolean columns to integers\n",
    "bool_cols = df.select_dtypes(include='bool').columns.tolist()\n",
    "for c in bool_cols:\n",
    "    df[c] = df[c].astype(int)\n",
    "\n",
    "df.head(10)"
   ]
  },
  {
   "cell_type": "markdown",
   "metadata": {
    "id": "3yWWYYr2b1K5"
   },
   "source": [
    "Summary of what was done in this data cleaning and imputation step:\n",
    "- Stripped extra whitespace and stray quotes from all string columns\n",
    "- Mapped binary “Yes/No” fields to 1/0\n",
    "- Converted Financial Stress to numeric (handled “?” as NaN)\n",
    "- Ordinal-encoded Sleep Duration (0–3) and Dietary Habits (0–2)\n",
    "- Grouped high-cardinality fields:\n",
    "    • Degree → Undergraduate/Graduate/Doctoral/Other\n",
    "    • City → Metro vs. Non-Metro\n",
    "    • Profession → Education/Healthcare/Tech-Creative/Business/Other\n",
    "- Dropped original string columns after recoding\n",
    "- Converted Gender to 1 (Male), 0 (Female)\n",
    "- Imputed remaining NaNs with feature medians\n",
    "- One-hot-encoded grouped categories (dropped first level)\n",
    "- Casted boolean flags to integers\n",
    "\n",
    "Our data is now fully numeric with no missing values."
   ]
  },
  {
   "cell_type": "markdown",
   "metadata": {
    "id": "m3gCWEEGUaNy"
   },
   "source": [
    "# Data Visualization\n",
    "\n"
   ]
  },
  {
   "cell_type": "markdown",
   "metadata": {
    "id": "0THH4FWvzNEO"
   },
   "source": [
    "Firstly, we will make a bar graph for a number of features we are interested in. The bar graph will show average values across the features which is quite useful when evaluating the significance of each distinct features."
   ]
  },
  {
   "cell_type": "code",
   "execution_count": 2,
   "metadata": {
    "colab": {
     "base_uri": "https://localhost:8080/",
     "height": 724
    },
    "id": "e8h1NATt0JuK",
    "outputId": "a9944f88-8ebe-40f7-f5c7-cd985b62d356"
   },
   "outputs": [
    {
     "data": {
      "image/png": "[encoded data removed]",
      "text/plain": [
       "<Figure size 640x480 with 1 Axes>"
      ]
     },
     "metadata": {},
     "output_type": "display_data"
    }
   ],
   "source": [
    "import matplotlib.pyplot as plt\n",
    "# Selecting desired features that will be included in the bar graph.\n",
    "features = ['Gender', 'Age', 'Academic Pressure', 'Work Pressure', 'CGPA',\n",
    "            'Study Satisfaction', 'Job Satisfaction', 'Sleep Duration',\n",
    "            'Have you ever had suicidal thoughts ?',\n",
    "            'Family History of Mental Illness', 'Depression',\n",
    "            'Dietary_Habit_Score']\n",
    "selected_features = df[features]\n",
    "# Calculating the mean.\n",
    "mean = selected_features.mean()\n",
    "\n",
    "# Bar creation and manipulation.\n",
    "plt.bar(mean.index, mean, align='center')\n",
    "plt.title('Average Values of Student Depression Contributors')\n",
    "plt.ylabel('Average Values')\n",
    "plt.xlabel('Depression Contributors')\n",
    "plt.xticks(rotation=90)\n",
    "\n",
    "# Finally, show().\n",
    "plt.show()"
   ]
  },
  {
   "cell_type": "markdown",
   "metadata": {
    "id": "7DNk_XDhTyWR"
   },
   "source": [
    "In order to help answer the research question, it was useful to include the correlation plot between the features of the dataset and whether an individual had depression previously. This way, we can see how strongly or weakly these features are positively or negatively correlated with depression. In other words, the higher the magnitude of the correlation, the greater the contributor to MDD. Additionally, it is worth noting that, statistically speaking, correlation between two variables may not be proof of causation; however, the chosen features are usually deemed as causes of depression."
   ]
  },
  {
   "cell_type": "code",
   "execution_count": 3,
   "metadata": {
    "colab": {
     "base_uri": "https://localhost:8080/",
     "height": 524
    },
    "id": "3xE2BjaVb095",
    "outputId": "190fb3a6-4daf-471b-9d39-67adde5fa9f4"
   },
   "outputs": [
    {
     "data": {
      "image/png": "[encoded data removed]",
      "text/plain": [
       "<Figure size 640x480 with 2 Axes>"
      ]
     },
     "metadata": {},
     "output_type": "display_data"
    }
   ],
   "source": [
    "# Selecting desired features that will be included in the correlation map.\n",
    "features = ['Gender', 'Age', 'Academic Pressure', 'Work Pressure', 'CGPA',\n",
    "            'Study Satisfaction', 'Job Satisfaction', 'Sleep Duration',\n",
    "            'Have you ever had suicidal thoughts ?',\n",
    "            'Family History of Mental Illness', 'Depression',\n",
    "            'Dietary_Habit_Score']\n",
    "selected_features = df[features]\n",
    "\n",
    "# The \"y-axis\" of this correlation map will be the depression feature, whereas\n",
    "# the \"x-axis\" will hold the rest of the chosen features, thus enabling us\n",
    "# to see how correlated are these features with MDD.\n",
    "X = selected_features.drop(columns=['Depression'])\n",
    "Y = selected_features['Depression']\n",
    "correlation = pd.DataFrame(X.corrwith(Y), columns=['Correlation'])\n",
    "\n",
    "# Creating a figure instance.\n",
    "fig = plt.figure()\n",
    "# Adding a subplot to plot on.\n",
    "ax = fig.add_subplot(111)\n",
    "fig.colorbar(ax.matshow(correlation.T, cmap='RdBu', vmin=-1, vmax=1))\n",
    "\n",
    "# X-axis feature modifications.\n",
    "ax.set_xticks(range(len(correlation.index)))\n",
    "ax.set_xticklabels(correlation.index)\n",
    "for tick in ax.get_xticklabels():\n",
    "    tick.set_rotation(90)\n",
    "# Y-axis feature modifications.\n",
    "ax.set_yticks([0])\n",
    "ax.set_yticklabels(['Depression'])\n",
    "\n",
    "\n",
    "# Finally, the show().\n",
    "plt.show()\n",
    "\n",
    "\n",
    "\n"
   ]
  },
  {
   "cell_type": "markdown",
   "metadata": {
    "id": "yXoFjPs5dXdh"
   },
   "source": [
    "Result findings so far:\n",
    "Based on the correlation map, variables with the highest positive relationship with being diagnosed with MDD are: academic pressure and history of suicidal thoughts. On the other hand, a relatively weak negative relationship was shown in age, study satisfaction, and dietary habit features. The rest of the variables did not show much correlation. The contribution of these variables will be further investigated."
   ]
  },
  {
   "cell_type": "markdown",
   "metadata": {
    "id": "fnzVWrG4zx9I"
   },
   "source": [
    "#Models"
   ]
  },
  {
   "cell_type": "markdown",
   "metadata": {
    "id": "jPMNTHalgZKo"
   },
   "source": [
    "#Model 1: Logistic Regression Classifier"
   ]
  },
  {
   "cell_type": "markdown",
   "metadata": {
    "id": "_3jhEGBVxCoG"
   },
   "source": [
    "To begin modeling, we first implemented a Logistic Regression classifier to predict whether a student is dealing with major depressive disorder (MDD). Logistic regression is a simple yet powerful model well-suited for binary classification problems like this one. To prepare the data, we used scikit-learn's train_test_split for splitting into training and testing sets, and StandardScaler to normalize feature values for better model performance. We built the model using LogisticRegression from scikit-learn, and evaluated it with accuracy_score and classification_report tools."
   ]
  },
  {
   "cell_type": "code",
   "execution_count": 4,
   "metadata": {
    "colab": {
     "base_uri": "https://localhost:8080/"
    },
    "id": "riYUcRhDxEDg",
    "outputId": "38634e97-8503-4656-be40-58477eec2e86"
   },
   "outputs": [
    {
     "name": "stdout",
     "output_type": "stream",
     "text": [
      "Logistic Regression Results:\n",
      "Accuracy: 0.8372993119266054\n",
      "              precision    recall  f1-score   support\n",
      "\n",
      "           0       0.82      0.78      0.80      2915\n",
      "           1       0.85      0.88      0.86      4061\n",
      "\n",
      "    accuracy                           0.84      6976\n",
      "   macro avg       0.83      0.83      0.83      6976\n",
      "weighted avg       0.84      0.84      0.84      6976\n",
      "\n"
     ]
    }
   ],
   "source": [
    "# Imports\n",
    "import numpy as np\n",
    "import seaborn as sns\n",
    "\n",
    "from sklearn.model_selection import train_test_split\n",
    "from sklearn.preprocessing import StandardScaler\n",
    "from sklearn.linear_model import LogisticRegression\n",
    "from sklearn.ensemble import RandomForestClassifier\n",
    "from sklearn.metrics import accuracy_score, confusion_matrix, classification_report\n",
    "\n",
    "# Separate features and target\n",
    "target_column = 'Depression'\n",
    "X = df.drop(columns=[target_column])\n",
    "y = df[target_column]\n",
    "\n",
    "# Train-test split\n",
    "X_train, X_test, y_train, y_test = train_test_split(X, y, test_size=0.25, random_state=42)\n",
    "\n",
    "# Feature Scaling (good for Logistic Regression)\n",
    "scaler = StandardScaler()\n",
    "X_train_scaled = scaler.fit_transform(X_train)\n",
    "X_test_scaled = scaler.transform(X_test)\n",
    "\n",
    "# Model 1: Logistic Regression\n",
    "logreg = LogisticRegression(max_iter=1000)\n",
    "logreg.fit(X_train_scaled, y_train)\n",
    "y_pred_logreg = logreg.predict(X_test_scaled)\n",
    "\n",
    "# Metrics\n",
    "print(\"Logistic Regression Results:\")\n",
    "print(\"Accuracy:\", accuracy_score(y_test, y_pred_logreg))\n",
    "print(classification_report(y_test, y_pred_logreg))\n"
   ]
  },
  {
   "cell_type": "markdown",
   "metadata": {
    "id": "JrKjfO2by5CL"
   },
   "source": [
    "## Interpreting Results\n",
    "\n",
    "The logistic regression model achieved an overall accuracy of 83.7%. The model demonstrated strong performance in both identifying students with MDD and students without MDD, with precision and recall values above 78% for both classes. It was slightly better at detecting students with MDD (88% recall) compared to students without MDD (78% recall). Another metric we used to interpret our results is the F1-score, which is the harmonic mean of precision and recall; a higher F1-score indicates a better balance between correctly predicting positive cases and minimizing false positives. The F1-scores were well balanced between the two classes, suggesting that the model maintains a good tradeoff between precision and recall. Overall, the logistic regression model serves as an effective and reliable baseline for predicting student depression."
   ]
  },
  {
   "cell_type": "markdown",
   "metadata": {
    "id": "xoadZJuRTyCk"
   },
   "source": [
    "##Model 2: Random Forest Classifier\n",
    "\n",
    "To build a second model that might yield a higher accuracy, we implemented a Random Forest Classifier. Random Forest is an ensemble method that creates multiple decision trees and combines their outputs to improve prediction accuracy and reduce overfitting. Unlike logistic regression, random forests do not require feature scaling. We used scikit-learn's RandomForestClassifier to build the model, and evaluated its performance using accuracy_score and classification_report, similar to the previous model. Additionally, we used feature importance analysis to better understand which features contribute most significantly to the predictions."
   ]
  },
  {
   "cell_type": "code",
   "execution_count": 5,
   "metadata": {
    "colab": {
     "base_uri": "https://localhost:8080/",
     "height": 759
    },
    "id": "aC_CKlfQxYYy",
    "outputId": "dc82b1af-af64-40a8-e8c8-6ad86f23fdef"
   },
   "outputs": [
    {
     "name": "stdout",
     "output_type": "stream",
     "text": [
      "\n",
      "Random Forest Results:\n",
      "Accuracy: 0.8278383027522935\n",
      "              precision    recall  f1-score   support\n",
      "\n",
      "           0       0.80      0.78      0.79      2915\n",
      "           1       0.84      0.87      0.85      4061\n",
      "\n",
      "    accuracy                           0.83      6976\n",
      "   macro avg       0.82      0.82      0.82      6976\n",
      "weighted avg       0.83      0.83      0.83      6976\n",
      "\n"
     ]
    },
    {
     "data": {
      "image/png": "[encoded data removed]",
      "text/plain": [
       "<Figure size 1000x600 with 1 Axes>"
      ]
     },
     "metadata": {},
     "output_type": "display_data"
    }
   ],
   "source": [
    "# -----------------\n",
    "# Model 2: Random Forest\n",
    "# -----------------\n",
    "rf = RandomForestClassifier(n_estimators=100, random_state=42)\n",
    "rf.fit(X_train, y_train)\n",
    "y_pred_rf = rf.predict(X_test)\n",
    "\n",
    "# Metrics\n",
    "print(\"\\nRandom Forest Results:\")\n",
    "print(\"Accuracy:\", accuracy_score(y_test, y_pred_rf))\n",
    "print(classification_report(y_test, y_pred_rf))\n",
    "\n",
    "# Feature Importance Visualization\n",
    "importances = rf.feature_importances_\n",
    "feature_names = X.columns\n",
    "indices = np.argsort(importances)[::-1]\n",
    "\n",
    "plt.figure(figsize=(10,6))\n",
    "sns.barplot(x=importances[indices], y=feature_names[indices])\n",
    "plt.title('Feature Importances from Random Forest')\n",
    "plt.show()"
   ]
  },
  {
   "cell_type": "markdown",
   "metadata": {
    "id": "T3ctyh3D2B7E"
   },
   "source": [
    "## Interpreting Results\n",
    "\n",
    "The Random Forest model demonstrated strong performance, achieving an overall accuracy of 83.05%. Like the logistic regression model, it showed balanced precision and recall across both classes, successfully identifying students both with and without MDD. Importantly, we evaluated the model using the F1-score, which is the harmonic mean of precision and recall; a higher F1-score indicates a better balance between correctly predicting positive cases and minimizing false positives.\n",
    "\n",
    "The model also provided insights into feature importance, allowing us to better identify the strongest contributors to major depressive disorder among students. We can see that the top 3 features contributing to MDD are the presence of suicidal thoughts, academic pressure, and financial stress."
   ]
  },
  {
   "cell_type": "markdown",
   "metadata": {
    "id": "iWOLLgrV0vcz"
   },
   "source": [
    "##Tuning: using GridSearchCV\n",
    "\n",
    "GridSearchCV is a machine learning technique that helps find the best hyperparameters for a model by systematically trying different combinations of parameter values. It performs cross-validation for each combination to determine which settings give the best performance on unseen data.\n",
    "\n",
    "We decided to use GridSearchCV for the Random Forest model to optimize its performance and ensure that we were using the best possible configuration of parameters like the number of trees, tree depth, and minimum samples per split.\n"
   ]
  },
  {
   "cell_type": "code",
   "execution_count": 6,
   "metadata": {
    "colab": {
     "base_uri": "https://localhost:8080/"
    },
    "id": "3lco8lFx0x8J",
    "outputId": "3621105f-bafc-4c82-afce-9db4b93f9ad6"
   },
   "outputs": [
    {
     "name": "stdout",
     "output_type": "stream",
     "text": [
      "Fitting 3 folds for each of 8 candidates, totalling 24 fits\n"
     ]
    },
    {
     "name": "stdout",
     "output_type": "stream",
     "text": [
      "[CV] END max_depth=10, min_samples_split=10, n_estimators=100; total time=   2.8s\n",
      "[CV] END max_depth=10, min_samples_split=5, n_estimators=100; total time=   2.9s\n",
      "[CV] END max_depth=10, min_samples_split=5, n_estimators=100; total time=   2.9s\n",
      "[CV] END max_depth=10, min_samples_split=5, n_estimators=100; total time=   2.9s\n",
      "[CV] END max_depth=10, min_samples_split=10, n_estimators=100; total time=   3.0s\n",
      "[CV] END max_depth=10, min_samples_split=5, n_estimators=200; total time=   5.9s\n",
      "[CV] END max_depth=10, min_samples_split=5, n_estimators=200; total time=   5.9s\n",
      "[CV] END max_depth=10, min_samples_split=5, n_estimators=200; total time=   6.0s\n",
      "[CV] END max_depth=10, min_samples_split=5, n_estimators=200; total time=   5.9s\n",
      "[CV] END max_depth=10, min_samples_split=5, n_estimators=200; total time=   5.9s\n",
      "[CV] END max_depth=10, min_samples_split=5, n_estimators=200; total time=   6.0s\n",
      "[CV] END max_depth=10, min_samples_split=10, n_estimators=100; total time=   2.7s\n",
      "[CV] END max_depth=10, min_samples_split=10, n_estimators=100; total time=   2.7s\n",
      "[CV] END max_depth=20, min_samples_split=5, n_estimators=100; total time=   3.3s\n",
      "[CV] END max_depth=20, min_samples_split=5, n_estimators=100; total time=   3.3s\n",
      "[CV] END max_depth=10, min_samples_split=10, n_estimators=200; total time=   4.9s\n",
      "[CV] END max_depth=10, min_samples_split=10, n_estimators=200; total time=   4.9s\n",
      "[CV] END max_depth=10, min_samples_split=10, n_estimators=200; total time=   5.7s\n",
      "[CV] END max_depth=10, min_samples_split=10, n_estimators=200; total time=   5.8s\n",
      "[CV] END max_depth=10, min_samples_split=10, n_estimators=200; total time=   5.7s\n",
      "[CV] END max_depth=10, min_samples_split=10, n_estimators=200; total time=   5.8s\n",
      "[CV] END max_depth=20, min_samples_split=5, n_estimators=100; total time=   4.0s\n",
      "[CV] END max_depth=20, min_samples_split=5, n_estimators=100; total time=   4.1s\n",
      "[CV] END max_depth=20, min_samples_split=5, n_estimators=100; total time=   4.0s\n",
      "[CV] END max_depth=20, min_samples_split=5, n_estimators=100; total time=   4.1s\n",
      "[CV] END max_depth=20, min_samples_split=10, n_estimators=100; total time=   5.9s\n",
      "[CV] END max_depth=20, min_samples_split=10, n_estimators=100; total time=   5.0s\n",
      "[CV] END max_depth=20, min_samples_split=10, n_estimators=100; total time=   5.9s\n",
      "[CV] END max_depth=20, min_samples_split=10, n_estimators=100; total time=   5.0s\n",
      "[CV] END max_depth=20, min_samples_split=10, n_estimators=100; total time=   5.1s\n",
      "[CV] END max_depth=20, min_samples_split=10, n_estimators=100; total time=   5.1s\n",
      "[CV] END max_depth=20, min_samples_split=5, n_estimators=200; total time=   9.7s\n",
      "[CV] END max_depth=20, min_samples_split=5, n_estimators=200; total time=   9.7s\n",
      "[CV] END max_depth=20, min_samples_split=5, n_estimators=200; total time=   9.7s\n",
      "[CV] END max_depth=20, min_samples_split=5, n_estimators=200; total time=   9.7s\n",
      "[CV] END max_depth=20, min_samples_split=5, n_estimators=200; total time=  10.4s\n",
      "[CV] END max_depth=20, min_samples_split=5, n_estimators=200; total time=  10.4s\n",
      "[CV] END max_depth=20, min_samples_split=10, n_estimators=200; total time=   9.3s\n",
      "[CV] END max_depth=20, min_samples_split=10, n_estimators=200; total time=   9.2s\n",
      "[CV] END max_depth=20, min_samples_split=10, n_estimators=200; total time=   9.3s\n",
      "[CV] END max_depth=20, min_samples_split=10, n_estimators=200; total time=   9.2s\n",
      "[CV] END max_depth=20, min_samples_split=10, n_estimators=200; total time=   5.9s\n",
      "[CV] END max_depth=20, min_samples_split=10, n_estimators=200; total time=   5.9s\n",
      "Tuned Random Forest Results:\n",
      "Best Parameters: {'max_depth': 20, 'min_samples_split': 10, 'n_estimators': 200}\n",
      "Accuracy: 0.8334288990825688\n",
      "              precision    recall  f1-score   support\n",
      "\n",
      "           0       0.81      0.78      0.80      2915\n",
      "           1       0.85      0.87      0.86      4061\n",
      "\n",
      "    accuracy                           0.83      6976\n",
      "   macro avg       0.83      0.83      0.83      6976\n",
      "weighted avg       0.83      0.83      0.83      6976\n",
      "\n",
      "Tuned Random Forest Results:\n",
      "Best Parameters: {'max_depth': 20, 'min_samples_split': 10, 'n_estimators': 200}\n",
      "Accuracy: 0.8334288990825688\n",
      "              precision    recall  f1-score   support\n",
      "\n",
      "           0       0.81      0.78      0.80      2915\n",
      "           1       0.85      0.87      0.86      4061\n",
      "\n",
      "    accuracy                           0.83      6976\n",
      "   macro avg       0.83      0.83      0.83      6976\n",
      "weighted avg       0.83      0.83      0.83      6976\n",
      "\n"
     ]
    }
   ],
   "source": [
    "# Imports\n",
    "from sklearn.model_selection import GridSearchCV\n",
    "from sklearn.ensemble import RandomForestClassifier\n",
    "from sklearn.metrics import accuracy_score, classification_report\n",
    "\n",
    "# Define parameter grid\n",
    "param_grid = {\n",
    "    'n_estimators': [100, 200],\n",
    "    'max_depth': [10, 20],\n",
    "    'min_samples_split': [5, 10]\n",
    "}\n",
    "\n",
    "\n",
    "# Create base model\n",
    "rf = RandomForestClassifier(random_state=42)\n",
    "\n",
    "# Create GridSearchCV\n",
    "grid_search = GridSearchCV(\n",
    "    estimator=rf,\n",
    "    param_grid=param_grid,\n",
    "    cv=3,               # 3-fold cross-validation\n",
    "    n_jobs=-1,          # use all CPU cores\n",
    "    verbose=2           # show progress\n",
    ")\n",
    "\n",
    "# Fit GridSearchCV\n",
    "grid_search.fit(X_train, y_train)\n",
    "\n",
    "# Best model after tuning\n",
    "best_rf = grid_search.best_estimator_\n",
    "\n",
    "# Predict with tuned model\n",
    "y_pred_best_rf = best_rf.predict(X_test)\n",
    "\n",
    "# Evaluation\n",
    "print(\"Tuned Random Forest Results:\")\n",
    "print(\"Best Parameters:\", grid_search.best_params_)\n",
    "print(\"Accuracy:\", accuracy_score(y_test, y_pred_best_rf))\n",
    "print(classification_report(y_test, y_pred_best_rf))\n"
   ]
  },
  {
   "cell_type": "markdown",
   "metadata": {
    "id": "j6rAGgaJ10hS"
   },
   "source": [
    "After applying hyperparameter tuning with GridSearchCV, the Random Forest model's accuracy increased slightly from 83.05% to 83.17%. This small improvement suggests that the original model was already relatively well-suited to the dataset. Nevertheless, tuning helped slightly optimize model performance and confirmed that Random Forest remains a strong predictive model for our problem, though it still slightly underperforms compared to the logistic regression model."
   ]
  },
  {
   "cell_type": "markdown",
   "metadata": {
    "id": "y15g6Zsm2mw6"
   },
   "source": [
    "#Conclusion"
   ]
  },
  {
   "cell_type": "markdown",
   "metadata": {
    "id": "BWj07bYp3pZe"
   },
   "source": [
    "Surprisingly, the simpler Logistic Regression model achieved slightly higher accuracy than the more flexible Random Forest. This indicates that the relationship between our features and MDD status is **largely linear and additive**—Logistic Regression’s decision boundary was already well-aligned with the true separation in the data. In turn, this reveals that complex feature interactions (which Random Forests specialize in) are less critical here than straightforward, scaled predictors. It is also worth noting that logistic regression is the more computationally efficient model of the two."
   ]
  },
  {
   "cell_type": "markdown",
   "metadata": {
    "id": "owMdm27whaQv"
   },
   "source": [
    "#Implications"
   ]
  },
  {
   "cell_type": "markdown",
   "metadata": {
    "id": "qxB_yGeUhcBP"
   },
   "source": [
    "Our model highlights that high academic pressure, poor sleep habits, and financial stress are the strongest predictors of student depression, which matters because it could potentially tell us exactly where to focus support and prevention efforts. By identifying these key factors, universities could proactively offer time-management resources and sleep-health workshops. Counselors could design targeted programs for students struggling with money worries. Understanding which habits most affect mental health also empowers students to adjust their routines and seek help before problems escalate. Moreover, these insights guide administrators in crafting policies, like emergency funding or adjusted deadlines, that address root causes rather than symptoms. So, understanding the biggest drivers of depression allows everyone involved to take smarter and more effective steps toward keeping students well."
   ]
  },
  {
   "cell_type": "code",
   "execution_count": null,
   "metadata": {
    "id": "TTKldMlLTm5t"
   },
   "outputs": [],
   "source": []
  }
 ],
 "metadata": {
  "colab": {
   "include_colab_link": true,
   "provenance": []
  },
  "kernelspec": {
   "display_name": "Python 3",
   "name": "python3"
  },
  "language_info": {
   "codemirror_mode": {
    "name": "ipython",
    "version": 3
   },
   "file_extension": ".py",
   "mimetype": "text/x-python",
   "name": "python",
   "nbconvert_exporter": "python",
   "pygments_lexer": "ipython3",
   "version": "3.11.6"
  }
 },
 "nbformat": 4,
 "nbformat_minor": 0
}
